{
 "cells": [
  {
   "cell_type": "markdown",
   "metadata": {},
   "source": [
    "# Read data and combine dataframes"
   ]
  },
  {
   "cell_type": "code",
   "execution_count": null,
   "metadata": {},
   "outputs": [],
   "source": [
    "import pandas as pd\n",
    "\n",
    "tochi_train = pd.read_csv('../data/train_genba.tsv', sep='\\t')\n",
    "build_train = pd.read_csv('../data/train_goto.tsv', sep='\\t')\n",
    "train = pd.merge(tochi_train, build_train, on=\"pj_no\")\n",
    "\n",
    "tochi_test = pd.read_csv('../data/test_genba.tsv', sep='\\t')\n",
    "build_test = pd.read_csv('../data/test_goto.tsv', sep='\\t')\n",
    "test = pd.merge(tochi_test, build_test, on=\"pj_no\")"
   ]
  },
  {
   "cell_type": "code",
   "execution_count": null,
   "metadata": {},
   "outputs": [],
   "source": [
    "# 名前系と相関性が高いカラムはとりあえず削除\n",
    "# 土地のネームバリューが出てくると思うので、名前系はあとで追加するかも\n",
    "\n",
    "name_columns = ['bastei_nm1','bastei_nm2','chiseki_kb_hb','eki_nm1','eki_nm2','gk_chu_tm','gk_sho_tm','hy1f_date_su', \\\n",
    "                'hy2f_date_su','jukyo','mseki_yt_hb','tc_mseki','yoseki2']\n",
    "train.drop(name_columns, axis=1, inplace=True)\n",
    "test.drop(name_columns, axis=1, inplace=True)"
   ]
  },
  {
   "cell_type": "code",
   "execution_count": null,
   "metadata": {},
   "outputs": [],
   "source": [
    "import numpy as np\n",
    "\n",
    "train['fi3m_yohi'].replace('（無）','（不要）',inplace=True)\n",
    "train['hiatari'].fillna('普通', inplace=True)\n",
    "train['kborjs'].replace('公募','公簿',inplace=True)\n",
    "\n",
    "maru_columns = ['rs_e_kdate2','rs_e_kdate3','rs_e_m_ari','rs_e_m_nashi','rs_e_parking','rs_e_tahata','rs_e_zoki', \\\n",
    "                'rs_n_kdate2','rs_n_kdate3','rs_n_m_ari','rs_n_m_nashi','rs_n_parking','rs_n_tahata','rs_n_zoki', \\\n",
    "                'rs_s_kdate2','rs_s_kdate3','rs_s_m_ari','rs_s_m_nashi','rs_s_parking','rs_s_tahata','rs_s_zoki', \\\n",
    "                'rs_w_kdate2','rs_w_kdate3','rs_w_m_ari','rs_w_m_nashi','rs_w_parking','rs_w_tahata','rs_w_zoki', \\\n",
    "                'sho_conv','sho_market','sho_shoten','sho_super','shu_bochi','shu_factory','shu_highway', \\\n",
    "                'shu_hvline','shu_jutaku','shu_kaido','shu_kokyo','shu_line_ari','shu_line_nashi','shu_park', \\\n",
    "                'shu_shop','shu_sogi','shu_soon','shu_tower','shu_zoki']\n",
    "\n",
    "train[maru_columns] = train[maru_columns].replace({'○':1, np.nan:0})"
   ]
  },
  {
   "cell_type": "code",
   "execution_count": null,
   "metadata": {},
   "outputs": [],
   "source": [
    "# 他規制や個別要因など、「複数ある場合は1～4」系のカラムに対処\n",
    "\n",
    "hokakisei=['hokakisei1','hokakisei2','hokakisei3','hokakisei4']\n",
    "kobetsu=['kobetsu1','kobetsu2','kobetsu3','kobetsu4']\n",
    "train = pd.concat([train, train[hokakisei].stack().str.get_dummies().sum(level=0), \\\n",
    "                   train[kobetsu].stack().str.get_dummies().sum(level=0)], axis=1)\n",
    "train.drop(hokakisei+kobetsu, axis=1, inplace=True)\n",
    "train.iloc[:,137:] = train.iloc[:,137:].fillna(0.0)"
   ]
  },
  {
   "cell_type": "code",
   "execution_count": null,
   "metadata": {},
   "outputs": [],
   "source": [
    "train"
   ]
  },
  {
   "cell_type": "markdown",
   "metadata": {},
   "source": [
    "# Pandas profiling"
   ]
  },
  {
   "cell_type": "code",
   "execution_count": null,
   "metadata": {
    "scrolled": false
   },
   "outputs": [],
   "source": [
    "import matplotlib.pyplot as plt\n",
    "%matplotlib inline\n",
    "import pandas_profiling as pdp\n",
    "\n",
    "pdp.ProfileReport(train)"
   ]
  }
 ],
 "metadata": {
  "kernelspec": {
   "display_name": "Python 3",
   "language": "python",
   "name": "python3"
  },
  "language_info": {
   "codemirror_mode": {
    "name": "ipython",
    "version": 3
   },
   "file_extension": ".py",
   "mimetype": "text/x-python",
   "name": "python",
   "nbconvert_exporter": "python",
   "pygments_lexer": "ipython3",
   "version": "3.6.8"
  }
 },
 "nbformat": 4,
 "nbformat_minor": 2
}
